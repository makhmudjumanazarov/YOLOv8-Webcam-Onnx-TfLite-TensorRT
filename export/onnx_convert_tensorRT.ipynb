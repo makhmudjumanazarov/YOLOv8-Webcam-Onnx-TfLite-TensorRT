{
 "cells": [
  {
   "cell_type": "code",
   "execution_count": 1,
   "id": "f5c00ee8",
   "metadata": {},
   "outputs": [],
   "source": [
    "import tensorrt as trt\n",
    "import pycuda.autoinit\n",
    "import pycuda.driver as cuda\n",
    "import numpy as np\n",
    "import onnx"
   ]
  },
  {
   "cell_type": "code",
   "execution_count": 8,
   "id": "af88caf7",
   "metadata": {},
   "outputs": [],
   "source": [
    "def build_engine(model_file, max_ws=512*1024*1024, fp16=False):\n",
    "    print(\"building engine\")\n",
    "    TRT_LOGGER = trt.Logger(trt.Logger.WARNING)\n",
    "    builder = trt.Builder(TRT_LOGGER)\n",
    "    #builder.fp16_mode = fp16\n",
    "    config = builder.create_builder_config()\n",
    "    config.max_workspace_size = max_ws\n",
    "    if fp16:\n",
    "        config.flags |= 1 << int(trt.BuilderFlag.FP16)\n",
    "    \n",
    "    explicit_batch = 1 << int(trt.NetworkDefinitionCreationFlag.\\\n",
    "                                                  EXPLICIT_BATCH)\n",
    "    network = builder.create_network(explicit_batch)\n",
    "    with trt.OnnxParser(network, TRT_LOGGER) as parser:\n",
    "        with open(model_file, 'rb') as model:\n",
    "            parsed = parser.parse(model.read())\n",
    "            print(\"network.num_layers\", network.num_layers)\n",
    "            #last_layer = network.get_layer(network.num_layers - 1)\n",
    "            #network.mark_output(last_layer.get_output(0))\n",
    "            engine = builder.build_engine(network, config=config)\n",
    "            return engine\n"
   ]
  },
  {
   "cell_type": "code",
   "execution_count": 9,
   "id": "a56cc3bc",
   "metadata": {},
   "outputs": [
    {
     "name": "stdout",
     "output_type": "stream",
     "text": [
      "building engine\n",
      "[08/09/2023-16:48:51] [TRT] [W] onnx2trt_utils.cpp:374: Your ONNX model has been generated with INT64 weights, while TensorRT does not natively support INT64. Attempting to cast down to INT32.\n",
      "network.num_layers 248\n"
     ]
    },
    {
     "name": "stderr",
     "output_type": "stream",
     "text": [
      "/tmp/ipykernel_79811/2400473866.py:7: DeprecationWarning: Use set_memory_pool_limit instead.\n",
      "  config.max_workspace_size = max_ws\n",
      "/tmp/ipykernel_79811/2400473866.py:20: DeprecationWarning: Use build_serialized_network instead.\n",
      "  engine = builder.build_engine(network, config=config)\n"
     ]
    }
   ],
   "source": [
    "engine = build_engine(\"/home/airi/yolo/yolov8_files/detect/train/weights/best.onnx\")"
   ]
  },
  {
   "cell_type": "code",
   "execution_count": 11,
   "id": "f860f1e8",
   "metadata": {},
   "outputs": [],
   "source": [
    "engine_path = '/home/airi/yolo/yolov8_files/detect/train/weights/engine.engine'\n",
    "serialized_engine = engine.serialize()\n",
    "with open(engine_path, 'wb') as f:\n",
    "    f.write(serialized_engine)"
   ]
  },
  {
   "cell_type": "code",
   "execution_count": null,
   "id": "33a5592f",
   "metadata": {},
   "outputs": [],
   "source": []
  }
 ],
 "metadata": {
  "kernelspec": {
   "display_name": "yolov8_env",
   "language": "python",
   "name": "yolov8_env"
  },
  "language_info": {
   "codemirror_mode": {
    "name": "ipython",
    "version": 3
   },
   "file_extension": ".py",
   "mimetype": "text/x-python",
   "name": "python",
   "nbconvert_exporter": "python",
   "pygments_lexer": "ipython3",
   "version": "3.9.2"
  }
 },
 "nbformat": 4,
 "nbformat_minor": 5
}
